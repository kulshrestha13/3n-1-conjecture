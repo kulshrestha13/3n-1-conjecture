{
 "cells": [
  {
   "cell_type": "code",
   "execution_count": 1,
   "metadata": {},
   "outputs": [],
   "source": [
    "import random\n",
    "import matplotlib.pyplot as plt\n",
    "import numpy as np"
   ]
  },
  {
   "cell_type": "code",
   "execution_count": null,
   "metadata": {},
   "outputs": [],
   "source": [
    "index = []\n",
    "input_len = 1000000\n",
    "upper_bound = 2**69\n",
    "while len(index) < input_len:\n",
    "    num = random.randint(1, upper_bound)\n",
    "    if num not in index:\n",
    "        index.append(num)\n",
    "    if len(index) % 10000 == 0:\n",
    "        print(len(index))\n"
   ]
  },
  {
   "cell_type": "code",
   "execution_count": 16,
   "metadata": {},
   "outputs": [
    {
     "data": {
      "text/plain": [
       "[91588831737498654431,\n",
       " 444435673553412410390,\n",
       " 174453573528363613956,\n",
       " 345237527517866913770,\n",
       " 562727379160393928301,\n",
       " 252939972865280928055,\n",
       " 66517516387665147154,\n",
       " 491861784490812672296,\n",
       " 510821945684042622453,\n",
       " 16214026883598189216]"
      ]
     },
     "execution_count": 16,
     "metadata": {},
     "output_type": "execute_result"
    }
   ],
   "source": [
    "index[0:10]"
   ]
  },
  {
   "cell_type": "code",
   "execution_count": 20,
   "metadata": {},
   "outputs": [],
   "source": [
    "index_arr = np.array(index)"
   ]
  },
  {
   "cell_type": "code",
   "execution_count": 27,
   "metadata": {},
   "outputs": [],
   "source": [
    "np.save('index.npy', index_arr)"
   ]
  },
  {
   "cell_type": "code",
   "execution_count": 82,
   "metadata": {},
   "outputs": [],
   "source": [
    "arr = np.load('index.npy',allow_pickle=True)"
   ]
  },
  {
   "cell_type": "markdown",
   "metadata": {},
   "source": [
    "Generating using numpy uniform distribution"
   ]
  },
  {
   "cell_type": "code",
   "execution_count": 2,
   "metadata": {},
   "outputs": [
    {
     "name": "stdout",
     "output_type": "stream",
     "text": [
      "3000000\n"
     ]
    }
   ],
   "source": [
    "# Generate 100 random numbers from a uniform distribution between 0 and 1\n",
    "random_numbers = np.random.uniform(0, 2**69, 3000000)\n",
    "\n",
    "print(len(random_numbers))"
   ]
  },
  {
   "cell_type": "code",
   "execution_count": 3,
   "metadata": {},
   "outputs": [],
   "source": [
    "random_numbers_list = list(map(lambda x: int(x), random_numbers))"
   ]
  },
  {
   "cell_type": "code",
   "execution_count": 4,
   "metadata": {},
   "outputs": [],
   "source": [
    "index_arr = np.array(random_numbers_list)"
   ]
  },
  {
   "cell_type": "code",
   "execution_count": 5,
   "metadata": {},
   "outputs": [],
   "source": [
    "np.save('index.npy', index_arr)"
   ]
  },
  {
   "cell_type": "code",
   "execution_count": null,
   "metadata": {},
   "outputs": [],
   "source": [
    "plt.boxplot(index_arr)"
   ]
  },
  {
   "cell_type": "markdown",
   "metadata": {},
   "source": [
    "Generating hash value for large numbers"
   ]
  },
  {
   "cell_type": "code",
   "execution_count": 1,
   "metadata": {},
   "outputs": [
    {
     "name": "stdout",
     "output_type": "stream",
     "text": [
      "3365b44b8f294c0e4a3a32a17bb7e28b4589fb1a01786d9b139bc8c2a8c518ae\n"
     ]
    }
   ],
   "source": [
    "import hashlib\n",
    "\n",
    "# Large number\n",
    "num = 26767858754534559787098\n",
    "\n",
    "# Convert number to bytes and hash it\n",
    "hash_object = hashlib.sha256(str(num).encode())\n",
    "hex_dig = hash_object.hexdigest()\n",
    "\n",
    "print(hex_dig)"
   ]
  }
 ],
 "metadata": {
  "kernelspec": {
   "display_name": "base",
   "language": "python",
   "name": "python3"
  },
  "language_info": {
   "codemirror_mode": {
    "name": "ipython",
    "version": 3
   },
   "file_extension": ".py",
   "mimetype": "text/x-python",
   "name": "python",
   "nbconvert_exporter": "python",
   "pygments_lexer": "ipython3",
   "version": "3.9.12"
  }
 },
 "nbformat": 4,
 "nbformat_minor": 2
}
