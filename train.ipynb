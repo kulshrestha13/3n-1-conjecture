{
 "cells": [
  {
   "cell_type": "code",
   "execution_count": 1,
   "metadata": {},
   "outputs": [],
   "source": [
    "import torch\n",
    "import numpy as np\n",
    "import pandas as pd\n",
    "from torch.utils.data import Dataset, random_split, DataLoader\n",
    "import torch.nn as nn"
   ]
  },
  {
   "cell_type": "code",
   "execution_count": 2,
   "metadata": {},
   "outputs": [],
   "source": [
    "batch_size = 32\n",
    "input_dim = 5\n",
    "output_dim = 1\n",
    "epochs = 15"
   ]
  },
  {
   "cell_type": "code",
   "execution_count": 3,
   "metadata": {},
   "outputs": [],
   "source": [
    "data_arr= np.load('res.npy', allow_pickle=True)"
   ]
  },
  {
   "cell_type": "code",
   "execution_count": 4,
   "metadata": {},
   "outputs": [
    {
     "data": {
      "text/plain": [
       "1000000"
      ]
     },
     "execution_count": 4,
     "metadata": {},
     "output_type": "execute_result"
    }
   ],
   "source": [
    "data_df = pd.DataFrame(data_arr, columns=['number', 'steps', 'q1', 'median', 'q2', 'maximum', 'standard steps', 'logistic steps'], dtype=np.float64)\n",
    "len(data_df)"
   ]
  },
  {
   "cell_type": "code",
   "execution_count": 5,
   "metadata": {},
   "outputs": [
    {
     "data": {
      "text/html": [
       "<div>\n",
       "<style scoped>\n",
       "    .dataframe tbody tr th:only-of-type {\n",
       "        vertical-align: middle;\n",
       "    }\n",
       "\n",
       "    .dataframe tbody tr th {\n",
       "        vertical-align: top;\n",
       "    }\n",
       "\n",
       "    .dataframe thead th {\n",
       "        text-align: right;\n",
       "    }\n",
       "</style>\n",
       "<table border=\"1\" class=\"dataframe\">\n",
       "  <thead>\n",
       "    <tr style=\"text-align: right;\">\n",
       "      <th></th>\n",
       "      <th>number</th>\n",
       "      <th>steps</th>\n",
       "      <th>q1</th>\n",
       "      <th>median</th>\n",
       "      <th>q2</th>\n",
       "      <th>maximum</th>\n",
       "      <th>standard steps</th>\n",
       "      <th>logistic steps</th>\n",
       "    </tr>\n",
       "  </thead>\n",
       "  <tbody>\n",
       "    <tr>\n",
       "      <th>0</th>\n",
       "      <td>3.551399e+20</td>\n",
       "      <td>433.0</td>\n",
       "      <td>1.780000e+03</td>\n",
       "      <td>2.522568e+10</td>\n",
       "      <td>7.847522e+12</td>\n",
       "      <td>3.196259e+21</td>\n",
       "      <td>1.172840</td>\n",
       "      <td>0.763658</td>\n",
       "    </tr>\n",
       "    <tr>\n",
       "      <th>1</th>\n",
       "      <td>3.344763e+20</td>\n",
       "      <td>425.0</td>\n",
       "      <td>2.860621e+08</td>\n",
       "      <td>1.186557e+11</td>\n",
       "      <td>4.374864e+13</td>\n",
       "      <td>3.010286e+21</td>\n",
       "      <td>1.008230</td>\n",
       "      <td>0.732674</td>\n",
       "    </tr>\n",
       "    <tr>\n",
       "      <th>2</th>\n",
       "      <td>1.823451e+20</td>\n",
       "      <td>339.0</td>\n",
       "      <td>1.870040e+06</td>\n",
       "      <td>7.781301e+07</td>\n",
       "      <td>5.308293e+10</td>\n",
       "      <td>1.641106e+21</td>\n",
       "      <td>-0.761317</td>\n",
       "      <td>0.318360</td>\n",
       "    </tr>\n",
       "    <tr>\n",
       "      <th>3</th>\n",
       "      <td>4.116974e+20</td>\n",
       "      <td>198.0</td>\n",
       "      <td>6.376250e+03</td>\n",
       "      <td>3.784900e+06</td>\n",
       "      <td>1.050230e+14</td>\n",
       "      <td>3.705276e+21</td>\n",
       "      <td>-3.662551</td>\n",
       "      <td>0.025025</td>\n",
       "    </tr>\n",
       "    <tr>\n",
       "      <th>4</th>\n",
       "      <td>4.140167e+20</td>\n",
       "      <td>304.0</td>\n",
       "      <td>3.140990e+05</td>\n",
       "      <td>8.947985e+07</td>\n",
       "      <td>9.912957e+09</td>\n",
       "      <td>3.726150e+21</td>\n",
       "      <td>-1.481481</td>\n",
       "      <td>0.185204</td>\n",
       "    </tr>\n",
       "  </tbody>\n",
       "</table>\n",
       "</div>"
      ],
      "text/plain": [
       "         number  steps            q1        median            q2  \\\n",
       "0  3.551399e+20  433.0  1.780000e+03  2.522568e+10  7.847522e+12   \n",
       "1  3.344763e+20  425.0  2.860621e+08  1.186557e+11  4.374864e+13   \n",
       "2  1.823451e+20  339.0  1.870040e+06  7.781301e+07  5.308293e+10   \n",
       "3  4.116974e+20  198.0  6.376250e+03  3.784900e+06  1.050230e+14   \n",
       "4  4.140167e+20  304.0  3.140990e+05  8.947985e+07  9.912957e+09   \n",
       "\n",
       "        maximum  standard steps  logistic steps  \n",
       "0  3.196259e+21        1.172840        0.763658  \n",
       "1  3.010286e+21        1.008230        0.732674  \n",
       "2  1.641106e+21       -0.761317        0.318360  \n",
       "3  3.705276e+21       -3.662551        0.025025  \n",
       "4  3.726150e+21       -1.481481        0.185204  "
      ]
     },
     "execution_count": 5,
     "metadata": {},
     "output_type": "execute_result"
    }
   ],
   "source": [
    "data_df.head()"
   ]
  },
  {
   "cell_type": "code",
   "execution_count": 6,
   "metadata": {},
   "outputs": [],
   "source": [
    "class Cus_Dataset(Dataset):\n",
    "    def __init__(self, data):\n",
    "        self.data = data\n",
    "        self.x = torch.tensor(self.data.iloc[:, [0,2,3,4,5]].values)\n",
    "        #temp = list(map(lambda x: '{0:069b}'.format(int(x)), numbers))\n",
    "        #x = list(map(lambda x: [int(char) for char in x], temp))\n",
    "        #self.x = torch.tensor(x, dtype=torch.float64)\n",
    "\n",
    "        self.y = torch.tensor(self.data['steps'])\n",
    "\n",
    "    def __len__(self):\n",
    "        return len(self.data)\n",
    "\n",
    "    def __getitem__(self,index):\n",
    "        return self.x[index], self.y[index]"
   ]
  },
  {
   "cell_type": "code",
   "execution_count": 7,
   "metadata": {},
   "outputs": [],
   "source": [
    "data = Cus_Dataset(data_df)"
   ]
  },
  {
   "cell_type": "code",
   "execution_count": 8,
   "metadata": {},
   "outputs": [],
   "source": [
    "gen = torch.Generator()\n",
    "gen.manual_seed(0)\n",
    "train_df, val_df, test_df = random_split(data, [0.75, 0.2, 0.05], generator=gen)"
   ]
  },
  {
   "cell_type": "code",
   "execution_count": 9,
   "metadata": {},
   "outputs": [],
   "source": [
    "train_data_loader = DataLoader(train_df, batch_size=batch_size, shuffle=True)\n",
    "val_data_loader = DataLoader(val_df, batch_size=batch_size, shuffle=True)\n",
    "test_data_loader = DataLoader(test_df, batch_size=batch_size, shuffle=True)"
   ]
  },
  {
   "cell_type": "code",
   "execution_count": 10,
   "metadata": {},
   "outputs": [
    {
     "name": "stdout",
     "output_type": "stream",
     "text": [
      "Train dataset length: 750016\n",
      "Validation dataset length: 200000\n",
      "Test dataset length: 50016\n"
     ]
    }
   ],
   "source": [
    "print(f\"Train dataset length: {batch_size * len(train_data_loader)}\")\n",
    "print(f\"Validation dataset length: {batch_size * len(val_data_loader)}\")\n",
    "print(f\"Test dataset length: {batch_size * len(test_data_loader)}\")"
   ]
  },
  {
   "cell_type": "code",
   "execution_count": null,
   "metadata": {},
   "outputs": [],
   "source": [
    "#for idx, batch in enumerate(train_data_loader):\n",
    "#    x, y = batch\n",
    "#    batch_no = idx + 1\n",
    "#    print(f\"Batch number: {batch_no}, Batch size: {len(x)} \\nnumber: {x} \\ntarget: {y}\")\n",
    "#    break\n",
    "    "
   ]
  },
  {
   "cell_type": "code",
   "execution_count": 12,
   "metadata": {},
   "outputs": [],
   "source": [
    "#import math\n",
    "#lst_log = list(map(lambda x: math.log(x), data_arr[:,0]))\n",
    "#c=torch.tensor(lst_log, dtype=torch.float64)"
   ]
  },
  {
   "cell_type": "code",
   "execution_count": 13,
   "metadata": {},
   "outputs": [],
   "source": [
    "device = \"cuda\" if torch.cuda.is_available() else \"cpu\""
   ]
  },
  {
   "cell_type": "code",
   "execution_count": 14,
   "metadata": {},
   "outputs": [],
   "source": [
    "#Model Architecture\n",
    "class Model(nn.Module):\n",
    "    def __init__(self,input_dim, output_dim):\n",
    "        super(Model, self).__init__()\n",
    "        self.layers = nn.Sequential(\n",
    "            nn.Linear(input_dim, 10),\n",
    "            nn.ReLU(),\n",
    "            nn.Linear(10, 5),\n",
    "            nn.ReLU(),\n",
    "            nn.Linear(5, 2),\n",
    "            nn.ReLU(),\n",
    "            nn.Linear(2, output_dim)\n",
    "        )\n",
    "\n",
    "    def forward(self, x):\n",
    "        return self.layers(x)"
   ]
  },
  {
   "cell_type": "code",
   "execution_count": 15,
   "metadata": {},
   "outputs": [],
   "source": [
    "model = Model(input_dim, output_dim)\n",
    "model = model.to(device)"
   ]
  },
  {
   "cell_type": "code",
   "execution_count": 16,
   "metadata": {},
   "outputs": [],
   "source": [
    "model = model.to(torch.float64)"
   ]
  },
  {
   "cell_type": "code",
   "execution_count": 17,
   "metadata": {},
   "outputs": [],
   "source": [
    "loss_fn = nn.L1Loss()\n",
    "optimizer = torch.optim.Adam(model.parameters())"
   ]
  },
  {
   "cell_type": "code",
   "execution_count": 19,
   "metadata": {},
   "outputs": [
    {
     "name": "stdout",
     "output_type": "stream",
     "text": [
      "Epoch: 1/15\n",
      "   Batch: 4000, Loss: 67.1162\n",
      "   Batch: 8000, Loss: 80.6349\n",
      "   Batch: 12000, Loss: 60.9038\n",
      "   Batch: 16000, Loss: 56.8683\n",
      "   Batch: 20000, Loss: 76.5352\n",
      "   Average loss: 75.7250\n",
      "\n",
      "Epoch: 2/15\n",
      "   Batch: 4000, Loss: 86.0895\n",
      "   Batch: 8000, Loss: 64.6251\n",
      "   Batch: 12000, Loss: 79.3215\n",
      "   Batch: 16000, Loss: 76.5393\n",
      "   Batch: 20000, Loss: 78.7486\n",
      "   Average loss: 73.9996\n",
      "\n",
      "Epoch: 3/15\n",
      "   Batch: 4000, Loss: 67.4972\n",
      "   Batch: 8000, Loss: 67.3027\n",
      "   Batch: 12000, Loss: 80.0627\n",
      "   Batch: 16000, Loss: 71.5764\n",
      "   Batch: 20000, Loss: 64.1138\n",
      "   Average loss: 73.6960\n",
      "\n",
      "Epoch: 4/15\n",
      "   Batch: 4000, Loss: 56.7309\n",
      "   Batch: 8000, Loss: 71.8763\n",
      "   Batch: 12000, Loss: 78.8486\n",
      "   Batch: 16000, Loss: 74.4124\n",
      "   Batch: 20000, Loss: 74.7500\n",
      "   Average loss: 73.6668\n",
      "\n",
      "Epoch: 5/15\n",
      "   Batch: 4000, Loss: 78.4052\n",
      "   Batch: 8000, Loss: 53.1320\n",
      "   Batch: 12000, Loss: 71.9369\n",
      "   Batch: 16000, Loss: 82.6258\n",
      "   Batch: 20000, Loss: 62.3750\n",
      "   Average loss: 73.6623\n",
      "\n",
      "Epoch: 6/15\n",
      "   Batch: 4000, Loss: 65.2828\n",
      "   Batch: 8000, Loss: 80.4363\n",
      "   Batch: 12000, Loss: 76.5344\n",
      "   Batch: 16000, Loss: 78.7492\n",
      "   Batch: 20000, Loss: 66.6562\n",
      "   Average loss: 73.6623\n",
      "\n",
      "Epoch: 7/15\n",
      "   Batch: 4000, Loss: 63.6828\n",
      "   Batch: 8000, Loss: 72.3335\n",
      "   Batch: 12000, Loss: 68.1248\n",
      "   Batch: 16000, Loss: 74.8113\n",
      "   Batch: 20000, Loss: 66.5828\n",
      "   Average loss: 73.6623\n",
      "\n",
      "Epoch: 8/15\n",
      "   Batch: 4000, Loss: 87.8702\n",
      "   Batch: 8000, Loss: 75.6926\n",
      "   Batch: 12000, Loss: 62.6741\n",
      "   Batch: 16000, Loss: 68.9055\n",
      "   Batch: 20000, Loss: 81.3761\n",
      "   Average loss: 73.6626\n",
      "\n",
      "Epoch: 9/15\n",
      "   Batch: 4000, Loss: 67.2473\n",
      "   Batch: 8000, Loss: 87.0691\n",
      "   Batch: 12000, Loss: 72.7181\n",
      "   Batch: 16000, Loss: 60.7803\n",
      "   Batch: 20000, Loss: 76.4989\n",
      "   Average loss: 73.6618\n",
      "\n",
      "Epoch: 10/15\n",
      "   Batch: 4000, Loss: 78.5281\n",
      "   Batch: 8000, Loss: 71.9669\n",
      "   Batch: 12000, Loss: 74.7176\n",
      "   Batch: 16000, Loss: 67.9694\n",
      "   Batch: 20000, Loss: 75.3963\n",
      "   Average loss: 73.6623\n",
      "\n",
      "Epoch: 11/15\n",
      "   Batch: 4000, Loss: 62.2502\n",
      "   Batch: 8000, Loss: 72.6893\n",
      "   Batch: 12000, Loss: 85.8439\n",
      "   Batch: 16000, Loss: 64.8438\n",
      "   Batch: 20000, Loss: 67.2575\n",
      "   Average loss: 73.6622\n",
      "\n",
      "Epoch: 12/15\n",
      "   Batch: 4000, Loss: 70.1873\n",
      "   Batch: 8000, Loss: 61.4087\n",
      "   Batch: 12000, Loss: 84.0971\n",
      "   Batch: 16000, Loss: 81.5032\n",
      "   Batch: 20000, Loss: 77.8395\n",
      "   Average loss: 73.6621\n",
      "\n",
      "Epoch: 13/15\n",
      "   Batch: 4000, Loss: 63.9354\n",
      "   Batch: 8000, Loss: 77.7291\n",
      "   Batch: 12000, Loss: 61.6887\n",
      "   Batch: 16000, Loss: 70.0023\n",
      "   Batch: 20000, Loss: 68.2119\n",
      "   Average loss: 73.6628\n",
      "\n",
      "Epoch: 14/15\n",
      "   Batch: 4000, Loss: 76.8753\n",
      "   Batch: 8000, Loss: 72.6278\n",
      "   Batch: 12000, Loss: 86.9692\n",
      "   Batch: 16000, Loss: 61.5284\n",
      "   Batch: 20000, Loss: 62.4373\n",
      "   Average loss: 73.6625\n",
      "\n",
      "Epoch: 15/15\n",
      "   Batch: 4000, Loss: 59.1564\n",
      "   Batch: 8000, Loss: 70.2202\n",
      "   Batch: 12000, Loss: 64.5001\n",
      "   Batch: 16000, Loss: 80.6853\n",
      "   Batch: 20000, Loss: 58.6556\n"
     ]
    }
   ],
   "source": [
    "## Training loop\n",
    "loss_per_epoch = []\n",
    "\n",
    "for epoch in range(epochs):\n",
    "    print(f\"Epoch: {epoch + 1}/{epochs}\")\n",
    "    loss_list = []\n",
    "\n",
    "    for idx, batch in enumerate(train_data_loader):\n",
    "        x, target = batch\n",
    "        batch_no = idx + 1\n",
    "        \n",
    "        #x = x.reshape(-1,1)\n",
    "        target = target.reshape(-1,1)\n",
    "        x = x.to(device)\n",
    "        target = target.to(device)\n",
    "        \n",
    "        optimizer.zero_grad()\n",
    "        y = model(x)\n",
    "        loss = loss_fn(y, target)\n",
    "        \n",
    "        loss_list.append(loss.item())\n",
    "        loss.backward()\n",
    "        optimizer.step()\n",
    "        \n",
    "        if batch_no%4000 == 0:\n",
    "            print(f\"   Batch: {batch_no}, Loss: {loss.item():.4f}\")\n",
    "\n",
    "    avg_loss = sum(loss_list)/len(loss_list)\n",
    "    print(f\"   Average loss: {avg_loss:.4f}\\n\")\n",
    "    loss_per_epoch.append(avg_loss)\n",
    "    #sqrt_mean_loss.append(np.sqrt(avg_loss))\n",
    "\n",
    "#print(f\"Squared Mean Loss List: {sqrt_mean_loss}\")"
   ]
  },
  {
   "cell_type": "code",
   "execution_count": 21,
   "metadata": {},
   "outputs": [],
   "source": [
    "#sqrt_mean_loss = sqrt_mean_loss[1:]"
   ]
  },
  {
   "cell_type": "code",
   "execution_count": 22,
   "metadata": {},
   "outputs": [
    {
     "data": {
      "text/plain": [
       "<AxesSubplot:>"
      ]
     },
     "execution_count": 22,
     "metadata": {},
     "output_type": "execute_result"
    },
    {
     "data": {
      "image/png": "[encoded data removed]",
      "text/plain": [
       "<Figure size 1000x500 with 1 Axes>"
      ]
     },
     "metadata": {},
     "output_type": "display_data"
    }
   ],
   "source": [
    "pd.DataFrame(data={\"loss\":loss_per_epoch}).plot(figsize=(10,5))"
   ]
  },
  {
   "cell_type": "code",
   "execution_count": 23,
   "metadata": {},
   "outputs": [
    {
     "name": "stdout",
     "output_type": "stream",
     "text": [
      "Validation loss: 73.0167\n",
      "Square root validation loss: 8.5450\n"
     ]
    }
   ],
   "source": [
    "# validation\n",
    "\n",
    "val_loss = 0\n",
    "\n",
    "with torch.no_grad():\n",
    "    for idx, batch in enumerate(val_data_loader):\n",
    "        x, target = batch\n",
    "        batch_no = idx + 1\n",
    "        \n",
    "        #x = x.reshape(-1,1)\n",
    "        target = target.reshape(-1,1)\n",
    "        x = x.to(device)\n",
    "        target = target.to(device)\n",
    "                \n",
    "        y = model(x)\n",
    "        loss = loss_fn(y, target)\n",
    "        \n",
    "        val_loss += loss.item()\n",
    "\n",
    "val_mean_loss = val_loss/len(val_data_loader)\n",
    "print(f\"Validation loss: {val_mean_loss:.4f}\")\n",
    "#print(f\"Square root validation loss: {np.sqrt(val_mean_loss):.4f}\")"
   ]
  },
  {
   "cell_type": "code",
   "execution_count": 24,
   "metadata": {},
   "outputs": [
    {
     "data": {
      "text/plain": [
       "tensor([263., 407., 445., 326., 371., 483., 482., 322.], dtype=torch.float64)"
      ]
     },
     "execution_count": 24,
     "metadata": {},
     "output_type": "execute_result"
    }
   ],
   "source": [
    "target.reshape(-1)"
   ]
  },
  {
   "cell_type": "code",
   "execution_count": 25,
   "metadata": {},
   "outputs": [
    {
     "data": {
      "text/plain": [
       "tensor([376.5913, 376.5913, 376.5913, 376.5913, 376.5913, 376.5913, 376.5913,\n",
       "        376.5913], dtype=torch.float64)"
      ]
     },
     "execution_count": 25,
     "metadata": {},
     "output_type": "execute_result"
    }
   ],
   "source": [
    "y.reshape(-1)"
   ]
  },
  {
   "cell_type": "code",
   "execution_count": 26,
   "metadata": {},
   "outputs": [
    {
     "name": "stdout",
     "output_type": "stream",
     "text": [
      "tensor(387.3750, dtype=torch.float64)\n",
      "tensor(371., dtype=torch.float64)\n"
     ]
    }
   ],
   "source": [
    "print(target.mean())\n",
    "print(target.median())"
   ]
  },
  {
   "cell_type": "code",
   "execution_count": null,
   "metadata": {},
   "outputs": [],
   "source": [
    "print(f\"Loss for this batch: {loss(y, target)}\")"
   ]
  },
  {
   "cell_type": "code",
   "execution_count": 27,
   "metadata": {},
   "outputs": [
    {
     "ename": "KeyboardInterrupt",
     "evalue": "",
     "output_type": "error",
     "traceback": [
      "\u001b[1;31m---------------------------------------------------------------------------\u001b[0m",
      "\u001b[1;31mKeyboardInterrupt\u001b[0m                         Traceback (most recent call last)",
      "\u001b[1;32m~\\AppData\\Local\\Temp\\ipykernel_279024\\2577426546.py\u001b[0m in \u001b[0;36m<module>\u001b[1;34m\u001b[0m\n\u001b[0;32m      4\u001b[0m     \u001b[0mx\u001b[0m\u001b[1;33m,\u001b[0m \u001b[0my\u001b[0m \u001b[1;33m=\u001b[0m \u001b[0mbatch\u001b[0m\u001b[1;33m\u001b[0m\u001b[1;33m\u001b[0m\u001b[0m\n\u001b[0;32m      5\u001b[0m     \u001b[0mmean\u001b[0m \u001b[1;33m=\u001b[0m \u001b[0mmean\u001b[0m \u001b[1;33m+\u001b[0m \u001b[0my\u001b[0m\u001b[1;33m.\u001b[0m\u001b[0mmean\u001b[0m\u001b[1;33m(\u001b[0m\u001b[1;33m)\u001b[0m\u001b[1;33m\u001b[0m\u001b[1;33m\u001b[0m\u001b[0m\n\u001b[1;32m----> 6\u001b[1;33m     \u001b[0mmedian\u001b[0m \u001b[1;33m=\u001b[0m \u001b[0mmedian\u001b[0m \u001b[1;33m+\u001b[0m \u001b[0my\u001b[0m\u001b[1;33m.\u001b[0m\u001b[0mmedian\u001b[0m\u001b[1;33m(\u001b[0m\u001b[1;33m)\u001b[0m\u001b[1;33m\u001b[0m\u001b[1;33m\u001b[0m\u001b[0m\n\u001b[0m\u001b[0;32m      7\u001b[0m \u001b[0mprint\u001b[0m\u001b[1;33m(\u001b[0m\u001b[1;34mf\"Mean: {mean/len(train_data_loader)}\"\u001b[0m\u001b[1;33m)\u001b[0m\u001b[1;33m\u001b[0m\u001b[1;33m\u001b[0m\u001b[0m\n\u001b[0;32m      8\u001b[0m \u001b[0mprint\u001b[0m\u001b[1;33m(\u001b[0m\u001b[1;34mf\"Median: {median/len(train_data_loader)}\"\u001b[0m\u001b[1;33m)\u001b[0m\u001b[1;33m\u001b[0m\u001b[1;33m\u001b[0m\u001b[0m\n",
      "\u001b[1;31mKeyboardInterrupt\u001b[0m: "
     ]
    }
   ],
   "source": [
    "mean = 0\n",
    "median = 0\n",
    "for idx, batch in enumerate(train_data_loader):\n",
    "    x, y = batch\n",
    "    mean = mean + y.mean()\n",
    "    median = median + y.median()\n",
    "print(f\"Mean: {mean/len(train_data_loader)}\")\n",
    "print(f\"Median: {median/len(train_data_loader)}\")"
   ]
  },
  {
   "cell_type": "code",
   "execution_count": null,
   "metadata": {},
   "outputs": [],
   "source": []
  }
 ],
 "metadata": {
  "kernelspec": {
   "display_name": "base",
   "language": "python",
   "name": "python3"
  },
  "language_info": {
   "codemirror_mode": {
    "name": "ipython",
    "version": 3
   },
   "file_extension": ".py",
   "mimetype": "text/x-python",
   "name": "python",
   "nbconvert_exporter": "python",
   "pygments_lexer": "ipython3",
   "version": "3.7.13"
  }
 },
 "nbformat": 4,
 "nbformat_minor": 2
}
